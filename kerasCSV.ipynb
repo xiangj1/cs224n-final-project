{
 "cells": [
  {
   "cell_type": "code",
   "execution_count": 1,
   "metadata": {},
   "outputs": [],
   "source": [
    "import json\n",
    "import csv\n",
    "import os"
   ]
  },
  {
   "cell_type": "code",
   "execution_count": 17,
   "metadata": {},
   "outputs": [],
   "source": [
    "DATASET_DIR = 'dataset'\n",
    "MARKS_PATH = 'preprocessing/marks.json'\n",
    "\n",
    "E2E_RESULT_PATH = 'E2E_Dataset.json'\n",
    "EXAMPLE_RESULT_PATH = 'example_dataset.json'\n",
    "\n",
    "TRAIN_CSV_PATH = 'train_keras.csv'\n",
    "EVAL_CSV_PATH = 'eval_keras.csv'"
   ]
  },
  {
   "cell_type": "code",
   "execution_count": 18,
   "metadata": {},
   "outputs": [
    {
     "data": {
      "text/plain": [
       "38"
      ]
     },
     "execution_count": 18,
     "metadata": {},
     "output_type": "execute_result"
    }
   ],
   "source": [
    "e2e_result = json.load(open(E2E_RESULT_PATH))\n",
    "\n",
    "train_writter = csv.writer(open(TRAIN_CSV_PATH, 'w'))\n",
    "eval_writter = csv.writer(open(EVAL_CSV_PATH, 'w'))\n",
    "\n",
    "train_writter.writerow([\"wav_filename\", \"wav_filesize\", \"transcript\"])\n",
    "eval_writter.writerow([\"wav_filename\", \"wav_filesize\", \"transcript\"])"
   ]
  },
  {
   "cell_type": "code",
   "execution_count": 19,
   "metadata": {
    "tags": []
   },
   "outputs": [],
   "source": [
    "transcripts = {}\n",
    "with open('./trans.txt') as file:\n",
    "    while(True):\n",
    "        line = file.readline()\n",
    "        if(line == ''):\n",
    "            break\n",
    "        fileName, transcript = line.split(' ', 1)\n",
    "        transcripts[fileName+'.wav'] = transcript\n",
    "        "
   ]
  },
  {
   "cell_type": "code",
   "execution_count": 20,
   "metadata": {
    "tags": []
   },
   "outputs": [
    {
     "name": "stdout",
     "output_type": "stream",
     "text": [
      "Starting to Build Training Set at count: 271\n",
      "Done\n"
     ]
    }
   ],
   "source": [
    "count = 0\n",
    "threshold = len(e2e_result) * 0.1\n",
    "writer = eval_writter\n",
    "colabPath = '/home/ubuntu/KerasDeepSpeech/dataset'\n",
    "\n",
    "for file_name in e2e_result:\n",
    "    file_path = os.path.join(DATASET_DIR, file_name)\n",
    "    file_size = os.path.getsize(file_path)\n",
    "    # transcript = transcripts[file_name]\n",
    "    transcript = e2e_result[file_name]\n",
    "\n",
    "    if(count > threshold and writer != train_writter):\n",
    "        print(\"Starting to Build Training Set at count:\", count)\n",
    "        writer = train_writter\n",
    "\n",
    "    # writer.writerow([os.path.abspath(file_path), file_size, transcript.lower().strip()])\n",
    "    writer.writerow([os.path.join(colabPath, file_name), file_size, transcript.lower().strip()])\n",
    "    count += 1\n",
    "    # print([os.path.abspath(file_path), file_size, transcript])\n",
    "\n",
    "print('Done')"
   ]
  },
  {
   "cell_type": "code",
   "execution_count": null,
   "metadata": {},
   "outputs": [],
   "source": []
  }
 ],
 "metadata": {
  "kernelspec": {
   "display_name": "base",
   "language": "python",
   "name": "python3"
  },
  "language_info": {
   "codemirror_mode": {
    "name": "ipython",
    "version": 3
   },
   "file_extension": ".py",
   "mimetype": "text/x-python",
   "name": "python",
   "nbconvert_exporter": "python",
   "pygments_lexer": "ipython3",
   "version": "3.9.13"
  },
  "orig_nbformat": 2,
  "vscode": {
   "interpreter": {
    "hash": "8b14037197921ed699b51d96fae1d73bd31268fe20208ba761fb11daf6f86a4f"
   }
  }
 },
 "nbformat": 4,
 "nbformat_minor": 2
}
